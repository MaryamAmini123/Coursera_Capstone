{
 "cells": [
  {
   "cell_type": "markdown",
   "metadata": {
    "collapsed": true
   },
   "source": [
    "# Capstone Project - The Battle of Neighborhoods\n",
    "## Halal restaurants in New York  city "
   ]
  },
  {
   "cell_type": "markdown",
   "metadata": {},
   "source": [
    "### Introduction"
   ]
  },
  {
   "cell_type": "markdown",
   "metadata": {},
   "source": [
    "New York City's demographics show that it is a large and ethnically diverse metropolis.It is the largest city in the United States with a long history of international immigration. New York City was home to over 8.3 million people in 2019, accounting for over 40% of the population of New York State and a slightly lower percentage of the New York metropolitan area, home to approximately 23.6 million. Over the last decade the city has been growing faster than the region. The New York region continues to be by far the leading metropolitan gateway for legal immigrants admitted into the United States.\n",
    "\n",
    "Around 768,767 Muslims live in New York City as of 2016, making up about 8.96% of the city's total population of 8,583,000. Approximately 22.3% of America's Muslims live in New York City, and the Muslim community is rapidly growing on account of immigration, reproduction, and conversion.As a requirement of their religion, Muslims eat Halal food.\n",
    "\n",
    "So in this project , I will list and visualize all major parts of New York City that has great Halal resturants."
   ]
  },
  {
   "cell_type": "markdown",
   "metadata": {},
   "source": [
    "### Data"
   ]
  },
  {
   "cell_type": "markdown",
   "metadata": {},
   "source": [
    "In this project I will use the following data :\n",
    "\n",
    "* New York City data that contains list Boroughs, Neighborhoods along with their latitude and longitude.  \n",
    "Data source : https://cocl.us/new_york_dataset  \n",
    "Description : This data set contains the required information. And we will use this data set to explore various neighborhoods of new york city. \n",
    "  \n",
    "\n",
    "* Halal resturants in each neighborhood of new york city.  \n",
    "Data source : Fousquare API  \n",
    "Description : By using this api we will get all the venues in each neighborhood. We can filter these venues to get only Halal resturants.\n",
    "  \n",
    "\n",
    "* GeoSpace data  \n",
    "Data source : https://data.cityofnewyork.us/City-Government/Borough-Boundaries/tqmj-j8zm  \n",
    "Description : By using this geo space data we will get the New york Borough boundaries that will help us visualize choropleth map."
   ]
  },
  {
   "cell_type": "markdown",
   "metadata": {},
   "source": [
    "### Approach\n",
    "* Collect the new york city data from https://cocl.us/new_york_dataset\n",
    "* Using FourSquare API we will find all venues for each neighborhood.\n",
    "* Filter out all venues that are Halal Resturants.\n",
    "* Find rating , tips and like count for each Halal Resturants using FourSquare API.\n",
    "* Using rating for each resturant , we will sort that data.\n",
    "* Visualize the Ranking of neighborhoods using folium library(python)"
   ]
  },
  {
   "cell_type": "markdown",
   "metadata": {},
   "source": [
    "### Questions that can be asked using the above mentioned datasets\n",
    "* What is best location in New York City for Halal foods ?\n",
    "* Which areas have potential Halal Resturant Market ?\n",
    "* Which all areas lack Halal Resturants ?\n",
    "* Which is the best place to stay if I prefer Halal foods ?"
   ]
  },
  {
   "cell_type": "code",
   "execution_count": null,
   "metadata": {},
   "outputs": [],
   "source": []
  }
 ],
 "metadata": {
  "kernelspec": {
   "display_name": "Python 3.6",
   "language": "python",
   "name": "python3"
  },
  "language_info": {
   "codemirror_mode": {
    "name": "ipython",
    "version": 3
   },
   "file_extension": ".py",
   "mimetype": "text/x-python",
   "name": "python",
   "nbconvert_exporter": "python",
   "pygments_lexer": "ipython3",
   "version": "3.6.9"
  }
 },
 "nbformat": 4,
 "nbformat_minor": 1
}
